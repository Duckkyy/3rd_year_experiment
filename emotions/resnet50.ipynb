{
  "cells": [
    {
      "cell_type": "code",
      "execution_count": 1,
      "metadata": {
        "colab": {
          "base_uri": "https://localhost:8080/"
        },
        "id": "NcxZWueJl27W",
        "outputId": "67837f9a-3c8e-42dc-a10f-60278e73fa34"
      },
      "outputs": [
        {
          "output_type": "stream",
          "name": "stdout",
          "text": [
            "Cloning into '3rd_year_experiment'...\n",
            "remote: Enumerating objects: 37108, done.\u001b[K\n",
            "remote: Counting objects: 100% (2212/2212), done.\u001b[K\n",
            "remote: Compressing objects: 100% (2089/2089), done.\u001b[K\n",
            "remote: Total 37108 (delta 112), reused 2212 (delta 112), pack-reused 34896\u001b[K\n",
            "Receiving objects: 100% (37108/37108), 913.42 MiB | 33.65 MiB/s, done.\n",
            "Resolving deltas: 100% (14156/14156), done.\n",
            "Checking out files: 100% (38757/38757), done.\n"
          ]
        }
      ],
      "source": [
        "! git clone https://github.com/Duckkyy/3rd_year_experiment.git"
      ]
    },
    {
      "cell_type": "code",
      "execution_count": 3,
      "metadata": {
        "colab": {
          "base_uri": "https://localhost:8080/",
          "height": 37
        },
        "id": "esqPN_ThGKdE",
        "outputId": "a794a60e-ae71-4246-9eef-f35ff2c52a81"
      },
      "outputs": [
        {
          "output_type": "execute_result",
          "data": {
            "text/plain": [
              "'/device:GPU:0'"
            ],
            "application/vnd.google.colaboratory.intrinsic+json": {
              "type": "string"
            }
          },
          "metadata": {},
          "execution_count": 3
        }
      ],
      "source": [
        "import tensorflow as tf\n",
        "tf.test.gpu_device_name()"
      ]
    },
    {
      "cell_type": "code",
      "execution_count": 4,
      "metadata": {
        "id": "HVOrYO_aaUvL"
      },
      "outputs": [],
      "source": [
        "import os\n",
        "os.environ['CUDA_LAUNCH_BLOCKING'] = \"1\""
      ]
    },
    {
      "cell_type": "code",
      "execution_count": 5,
      "metadata": {
        "id": "t_2DmsOHGboS"
      },
      "outputs": [],
      "source": [
        "from __future__ import print_function, division\n",
        "import torch\n",
        "import torch.nn as nn\n",
        "import torch.optim as optim\n",
        "from torch.optim import lr_scheduler\n",
        "import numpy as np\n",
        "import torchvision\n",
        "from torchvision import datasets, models, transforms\n",
        "import matplotlib.pyplot as plt\n",
        "import time\n",
        "import copy\n",
        "\n",
        "import pandas as pd\n",
        "from __future__ import division\n",
        "torch.manual_seed(0)\n",
        "from torch.autograd import Variable\n",
        "from PIL import Image, ImageOps, ImageEnhance\n",
        "plt.ion()\n"
      ]
    },
    {
      "cell_type": "markdown",
      "metadata": {
        "id": "nzgIt2uOl3ze"
      },
      "source": [
        "# New Section"
      ]
    },
    {
      "cell_type": "code",
      "execution_count": 6,
      "metadata": {
        "colab": {
          "base_uri": "https://localhost:8080/"
        },
        "id": "T-Q9fbdnHETn",
        "outputId": "0478bb73-3a25-44e8-ba2c-227ea44ac987"
      },
      "outputs": [
        {
          "output_type": "stream",
          "name": "stderr",
          "text": [
            "/usr/local/lib/python3.8/dist-packages/torch/utils/data/dataloader.py:554: UserWarning: This DataLoader will create 4 worker processes in total. Our suggested max number of worker in current system is 2, which is smaller than what this DataLoader is going to create. Please be aware that excessive worker creation might get DataLoader running slow or even freeze, lower the worker number to avoid potential slowness/freeze if necessary.\n",
            "  warnings.warn(_create_warning_msg(\n"
          ]
        }
      ],
      "source": [
        "transforming_hymen_data = {\n",
        "    'train': transforms.Compose([\n",
        "        transforms.RandomResizedCrop(224),\n",
        "        transforms.RandomHorizontalFlip(),\n",
        "        transforms.ToTensor(),\n",
        "        transforms.Normalize([0.485, 0.456, 0.406], [0.229, 0.224, 0.225])\n",
        "    ]),\n",
        "    'val': transforms.Compose([\n",
        "        transforms.Resize(256),\n",
        "        transforms.CenterCrop(224),\n",
        "        transforms.ToTensor(),\n",
        "        transforms.Normalize([0.485, 0.456, 0.406], [0.229, 0.224, 0.225])\n",
        "    ]),\n",
        "    'test': transforms.Compose([\n",
        "        transforms.Resize((224,224)),\n",
        "        transforms.ToTensor()\n",
        "    ])\n",
        "}\n",
        "\n",
        "data_dir = '3rd_year_experiment/emotions/data'\n",
        "datasets_images = {x: datasets.ImageFolder(os.path.join(data_dir, x),\n",
        "                                          transforming_hymen_data[x])\n",
        "                  for x in ['train', 'val']}\n",
        "loaders_data = {x: torch.utils.data.DataLoader(datasets_images[x], batch_size=4,\n",
        "                                             shuffle=True, num_workers=4)\n",
        "              for x in ['train', 'val']}\n",
        "sizes_datasets = {x: len(datasets_images[x]) for x in ['train', 'val']}\n",
        "class_names = datasets_images['train'].classes"
      ]
    },
    {
      "cell_type": "code",
      "execution_count": 7,
      "metadata": {
        "id": "SFxb3RtJRWRW"
      },
      "outputs": [],
      "source": [
        "class_names = datasets_images['train'].classes\n",
        "device = torch.device(\"cuda:0\" if torch.cuda.is_available() else \"cpu\")"
      ]
    },
    {
      "cell_type": "code",
      "execution_count": 8,
      "metadata": {
        "colab": {
          "base_uri": "https://localhost:8080/"
        },
        "id": "TbEgPz0lRdZC",
        "outputId": "ec53b14f-6f61-4fcd-ee58-90b222425273"
      },
      "outputs": [
        {
          "output_type": "stream",
          "name": "stdout",
          "text": [
            "['1', '2', '3', '4', '5', '6', '7']\n",
            "cuda:0\n"
          ]
        }
      ],
      "source": [
        "print(class_names)\n",
        "print(device)"
      ]
    },
    {
      "cell_type": "code",
      "execution_count": 9,
      "metadata": {
        "colab": {
          "base_uri": "https://localhost:8080/",
          "height": 148
        },
        "id": "qoPjVdOSJGPS",
        "outputId": "f2769151-95a9-4857-c870-1749a4094133"
      },
      "outputs": [
        {
          "output_type": "display_data",
          "data": {
            "text/plain": [
              "<Figure size 432x288 with 1 Axes>"
            ],
            "image/png": "[encoded data removed]"
          },
          "metadata": {
            "needs_background": "light"
          }
        }
      ],
      "source": [
        "def visualize_data(input, title=None):\n",
        "    input = input.numpy().transpose((1, 2, 0))\n",
        "    mean = np.array([0.485, 0.456, 0.406])\n",
        "    std = np.array([0.229, 0.224, 0.225])\n",
        "    input = std * input + mean\n",
        "    input = np.clip(input, 0, 1)\n",
        "    plt.imshow(input)\n",
        "    if title is not None:\n",
        "       plt.title(title)\n",
        "    plt.pause(0.001)  ## Here we are pausing a bit so that plots are updated\n",
        "\n",
        "\n",
        "inputs_data, classes = next(iter(loaders_data['train']))\n",
        "## This is the code for getting a batch of training data\n",
        "\n",
        "out = torchvision.utils.make_grid(inputs_data)\n",
        "## Here we are making a grid from batch\n",
        "\n",
        "visualize_data(out, title=[class_names[x] for x in classes])"
      ]
    },
    {
      "cell_type": "code",
      "execution_count": 10,
      "metadata": {
        "id": "u4hF7K-0R9tc"
      },
      "outputs": [],
      "source": [
        "def train(res_model, criterion, optimizer, scheduler, number_epochs=25):\n",
        "\n",
        "    since = time.time()\n",
        "\n",
        "    best_resmodel_wts = copy.deepcopy(res_model.state_dict())\n",
        "    best_accuracy = 0.0\n",
        "\n",
        "    for epochs in range(number_epochs):\n",
        "        print('Epoch {}/{}'.format(epochs, number_epochs - 1))\n",
        "        print('-' * 10)\n",
        "        for phase in ['train', 'val']: ## Here each epoch is having a training and validation phase\n",
        "            res_model.train()\n",
        "            running_loss = 0.0\n",
        "            running_corrects = 0\n",
        "\n",
        "            for inputs, labels in loaders_data[phase]: ## Iterating over data.\n",
        "                inputs = inputs.to(device)\n",
        "                labels = labels.to(device)\n",
        "\n",
        "                optimizer.zero_grad() ## here we are making the gradients to zero\n",
        "\n",
        "                with torch.set_grad_enabled(phase == 'train'): ## forwarding and then tracking the history if only in train\n",
        "                     outputs = res_model(inputs)\n",
        "                     _, preds = torch.max(outputs, 1)\n",
        "                     loss = criterion(outputs, labels)\n",
        "\n",
        "                     if phase == 'train': # backward and then optimizing only if it is in training phase\n",
        "                         loss.backward()\n",
        "                         optimizer.step()\n",
        "\n",
        "                running_loss += loss.item() * inputs.size(0)\n",
        "                running_corrects += torch.sum(preds == labels.data)\n",
        "            if phase == 'train':\n",
        "                scheduler.step()\n",
        "\n",
        "            epoch_loss = running_loss / sizes_datasets[phase]\n",
        "            epoch_acc = running_corrects.double() / sizes_datasets[phase]\n",
        "\n",
        "            print('{} Loss: {:.4f} Acc: {:.4f}'.format(phase, epoch_loss, epoch_acc))\n",
        "\n",
        "    time_elapsed = time.time() - since\n",
        "    print('Training complete in {:.0f}m {:.0f}s'.format(time_elapsed // 60, time_elapsed % 60))\n",
        "    print('Best val Acc: {:4f}'.format(best_accuracy))\n",
        "\n",
        "    # load best model weights\n",
        "    res_model.load_state_dict(best_resmodel_wts)\n",
        "\n",
        "    # save model\n",
        "    torch.save(res_model.state_dict(), f'{epochs:03}ep_acc{best_accuracy:.2f}.pth')\n",
        "\n",
        "    return res_model\n",
        "\n"
      ]
    },
    {
      "cell_type": "code",
      "execution_count": 11,
      "metadata": {
        "id": "ncuR2bkRTGg2"
      },
      "outputs": [],
      "source": [
        "def model_visualization(res_model, num_images=6):\n",
        "\n",
        "    was_training = res_model.training\n",
        "    res_model.eval()\n",
        "    images_so_far = 0\n",
        "    fig = plt.figure()\n",
        "\n",
        "    with torch.no_grad():\n",
        "        for i, (inputs, labels) in enumerate(loaders_data['val']):\n",
        "            inputs = inputs.to(device)\n",
        "            labels = labels.to(device)\n",
        "            outputs = res_model(inputs)\n",
        "            _, preds = torch.max(outputs, 1)\n",
        "\n",
        "        for j in range(inputs.size()[0]):\n",
        "            images_so_far += 1\n",
        "            ax = plt.subplot(num_images//2, 2, images_so_far)\n",
        "            ax.axis('off')\n",
        "            ax.set_title('predicted: {}'.format(class_names[preds[j]]))\n",
        "            visualize_data(inputs.cpu().data[j])\n",
        "\n",
        "            if images_so_far == num_images:\n",
        "               res_model.train(mode=was_training)\n",
        "               return\n",
        "        res_model.train(mode=was_training)"
      ]
    },
    {
      "cell_type": "code",
      "execution_count": 12,
      "metadata": {
        "colab": {
          "base_uri": "https://localhost:8080/",
          "height": 154,
          "referenced_widgets": [
            "32a967cff6564045847a24553a46b32d",
            "f6adc334fa784316928a5967e34e62f4",
            "78fe9b1a1f6e48418bb62f8d43bc97c2",
            "ff322d0ac1774be08381b0a86ca4e98c",
            "6dff466ea691446e8914df550ce53398",
            "aae09b5bb3bd496aa3733ecbdbbfb4b2",
            "35e41e2195e5440abe7ad094cf1acda5",
            "89314edf5430403f9c59a35d7369d01a",
            "6c6dd82a1eda47d19a6b6fb49c5aa5f7",
            "3b509d6c6cfb441191ebeb1c1e885539",
            "4762fe24eb644621b6da75bf1f5b819e"
          ]
        },
        "id": "Tj9bc5MCTS6X",
        "outputId": "35ca9e49-9d17-4863-949a-07a641a5f548"
      },
      "outputs": [
        {
          "output_type": "stream",
          "name": "stderr",
          "text": [
            "/usr/local/lib/python3.8/dist-packages/torchvision/models/_utils.py:208: UserWarning: The parameter 'pretrained' is deprecated since 0.13 and may be removed in the future, please use 'weights' instead.\n",
            "  warnings.warn(\n",
            "/usr/local/lib/python3.8/dist-packages/torchvision/models/_utils.py:223: UserWarning: Arguments other than a weight enum or `None` for 'weights' are deprecated since 0.13 and may be removed in the future. The current behavior is equivalent to passing `weights=ResNet50_Weights.IMAGENET1K_V1`. You can also use `weights=ResNet50_Weights.DEFAULT` to get the most up-to-date weights.\n",
            "  warnings.warn(msg)\n",
            "Downloading: \"https://download.pytorch.org/models/resnet50-0676ba61.pth\" to /root/.cache/torch/hub/checkpoints/resnet50-0676ba61.pth\n"
          ]
        },
        {
          "output_type": "display_data",
          "data": {
            "text/plain": [
              "  0%|          | 0.00/97.8M [00:00<?, ?B/s]"
            ],
            "application/vnd.jupyter.widget-view+json": {
              "version_major": 2,
              "version_minor": 0,
              "model_id": "32a967cff6564045847a24553a46b32d"
            }
          },
          "metadata": {}
        }
      ],
      "source": [
        "finetune_model = models.resnet50(pretrained=True)\n",
        "num_ftrs = finetune_model.fc.in_features\n",
        "\n",
        "finetune_model.fc = nn.Linear(num_ftrs, 7)\n",
        "finetune_model = finetune_model.to(device)\n",
        "\n",
        "criterion = nn.CrossEntropyLoss()\n",
        "finetune_optim = optim.SGD(finetune_model.parameters(), lr=0.001, momentum=0.9)\n",
        "\n",
        "exp_lr_scheduler = lr_scheduler.StepLR(finetune_optim, step_size=7, gamma=0.1)"
      ]
    },
    {
      "cell_type": "code",
      "execution_count": 13,
      "metadata": {
        "colab": {
          "base_uri": "https://localhost:8080/"
        },
        "id": "_dZYhUGsTeT4",
        "outputId": "6b7fab62-7418-4067-a46c-6962f2a03aec"
      },
      "outputs": [
        {
          "output_type": "stream",
          "name": "stdout",
          "text": [
            "Epoch 0/24\n",
            "----------\n",
            "train Loss: 1.8647 Acc: 0.3251\n",
            "val Loss: 1.7429 Acc: 0.3614\n",
            "Epoch 1/24\n",
            "----------\n",
            "train Loss: 1.6794 Acc: 0.3816\n",
            "val Loss: 1.9082 Acc: 0.3614\n",
            "Epoch 2/24\n",
            "----------\n",
            "train Loss: 1.5445 Acc: 0.4109\n",
            "val Loss: 1.6664 Acc: 0.3976\n",
            "Epoch 3/24\n",
            "----------\n",
            "train Loss: 1.5015 Acc: 0.4495\n",
            "val Loss: 1.6256 Acc: 0.3735\n",
            "Epoch 4/24\n",
            "----------\n",
            "train Loss: 1.4321 Acc: 0.4614\n",
            "val Loss: 1.6372 Acc: 0.4819\n",
            "Epoch 5/24\n",
            "----------\n",
            "train Loss: 1.4335 Acc: 0.4535\n",
            "val Loss: 1.6134 Acc: 0.4096\n",
            "Epoch 6/24\n",
            "----------\n",
            "train Loss: 1.3680 Acc: 0.4980\n",
            "val Loss: 1.6403 Acc: 0.3614\n",
            "Epoch 7/24\n",
            "----------\n",
            "train Loss: 1.2150 Acc: 0.5605\n",
            "val Loss: 1.6053 Acc: 0.4819\n",
            "Epoch 8/24\n",
            "----------\n",
            "train Loss: 1.1446 Acc: 0.5838\n",
            "val Loss: 1.4183 Acc: 0.5301\n",
            "Epoch 9/24\n",
            "----------\n",
            "train Loss: 1.1325 Acc: 0.5851\n",
            "val Loss: 1.5343 Acc: 0.4096\n",
            "Epoch 10/24\n",
            "----------\n",
            "train Loss: 1.0956 Acc: 0.5884\n",
            "val Loss: 1.5154 Acc: 0.4699\n",
            "Epoch 11/24\n",
            "----------\n",
            "train Loss: 1.0878 Acc: 0.6017\n",
            "val Loss: 1.6035 Acc: 0.5181\n",
            "Epoch 12/24\n",
            "----------\n",
            "train Loss: 1.0785 Acc: 0.6097\n",
            "val Loss: 1.5267 Acc: 0.4699\n",
            "Epoch 13/24\n",
            "----------\n",
            "train Loss: 1.0781 Acc: 0.6150\n",
            "val Loss: 1.6337 Acc: 0.4337\n",
            "Epoch 14/24\n",
            "----------\n",
            "train Loss: 1.0228 Acc: 0.6230\n",
            "val Loss: 1.5929 Acc: 0.4940\n",
            "Epoch 15/24\n",
            "----------\n",
            "train Loss: 1.0008 Acc: 0.6316\n",
            "val Loss: 1.6716 Acc: 0.3976\n",
            "Epoch 16/24\n",
            "----------\n",
            "train Loss: 1.0261 Acc: 0.6250\n",
            "val Loss: 1.6254 Acc: 0.4578\n",
            "Epoch 17/24\n",
            "----------\n",
            "train Loss: 1.0223 Acc: 0.6410\n",
            "val Loss: 1.4922 Acc: 0.5422\n",
            "Epoch 18/24\n",
            "----------\n",
            "train Loss: 0.9964 Acc: 0.6416\n",
            "val Loss: 1.5666 Acc: 0.4819\n",
            "Epoch 19/24\n",
            "----------\n",
            "train Loss: 1.0195 Acc: 0.6330\n",
            "val Loss: 1.5029 Acc: 0.5663\n",
            "Epoch 20/24\n",
            "----------\n",
            "train Loss: 1.0427 Acc: 0.6184\n",
            "val Loss: 1.4606 Acc: 0.5422\n",
            "Epoch 21/24\n",
            "----------\n",
            "train Loss: 0.9889 Acc: 0.6496\n",
            "val Loss: 1.6716 Acc: 0.4578\n",
            "Epoch 22/24\n",
            "----------\n",
            "train Loss: 1.0280 Acc: 0.6290\n",
            "val Loss: 1.5951 Acc: 0.4578\n",
            "Epoch 23/24\n",
            "----------\n",
            "train Loss: 1.0212 Acc: 0.6390\n",
            "val Loss: 1.6752 Acc: 0.4458\n",
            "Epoch 24/24\n",
            "----------\n",
            "train Loss: 0.9978 Acc: 0.6403\n",
            "val Loss: 1.5141 Acc: 0.5060\n",
            "Training complete in 9m 53s\n",
            "Best val Acc: 0.000000\n"
          ]
        }
      ],
      "source": [
        "finetune_model = train(finetune_model, criterion, finetune_optim, exp_lr_scheduler, number_epochs=25)"
      ]
    },
    {
      "cell_type": "code",
      "execution_count": 14,
      "metadata": {
        "id": "7ZjD1TswaM4a",
        "colab": {
          "base_uri": "https://localhost:8080/",
          "height": 299
        },
        "outputId": "be248568-7bd4-4694-c6fd-bfcf0371fdd3"
      },
      "outputs": [
        {
          "output_type": "display_data",
          "data": {
            "text/plain": [
              "<Figure size 432x288 with 1 Axes>"
            ],
            "image/png": "[encoded data removed]"
          },
          "metadata": {
            "needs_background": "light"
          }
        },
        {
          "output_type": "display_data",
          "data": {
            "text/plain": [
              "<Figure size 432x288 with 1 Axes>"
            ],
            "image/png": "[encoded data removed]"
          },
          "metadata": {
            "needs_background": "light"
          }
        },
        {
          "output_type": "display_data",
          "data": {
            "text/plain": [
              "<Figure size 432x288 with 1 Axes>"
            ],
            "image/png": "[encoded data removed]"
          },
          "metadata": {
            "needs_background": "light"
          }
        }
      ],
      "source": [
        "model_visualization(finetune_model)"
      ]
    },
    {
      "cell_type": "code",
      "execution_count": 15,
      "metadata": {
        "id": "WMUYpdwzWURD"
      },
      "outputs": [],
      "source": [
        "def prediction(res_model, image_path):\n",
        "\n",
        "    im = Image.open(image_path)\n",
        "    im_tensor = transforming_hymen_data['test'](im).unsqueeze(0)\n",
        "\n",
        "    image = Image.open(image_path).convert('RGB')\n",
        "    image_tensor = transforming_hymen_data['test'](image)\n",
        "    image_tensor = image_tensor.unsqueeze_(0).to(device) \n",
        "    input_img = Variable(image_tensor)\n",
        "    output = res_model(input_img)\n",
        "    #print(output)\n",
        "    index = output.cpu().data.numpy().argmax()\n",
        "    pred = class_names[index]\n",
        "    return pred \n"
      ]
    },
    {
      "cell_type": "code",
      "execution_count": 16,
      "metadata": {
        "colab": {
          "base_uri": "https://localhost:8080/",
          "height": 49,
          "referenced_widgets": [
            "f7ba70409f0d4669a22e4779041229d5",
            "acfe30109d814366add278d9f6db8301",
            "1f954b1f57604316981a5108f51139b4",
            "5dd23bb5d24a4531afcb89fb347b0305",
            "db4be81d350c475a94577f7e49480a84",
            "3737ebc6db714cb4a4848b3d7329d859",
            "66a4d0463b6b4c22bce0a583d0e1390a",
            "59ad90bfee864c07b15d0ec5ec07d302",
            "f8dc57a7d5f344c1acbf96cca621cc6b",
            "e179e2e5e7b3441db6b0f892db36adce",
            "9d0c360cd8554f1683434a2a83a9913e"
          ]
        },
        "id": "sfZ-HcMIZ7-b",
        "outputId": "5de3c080-eda6-4479-b145-d1bb73496374"
      },
      "outputs": [
        {
          "output_type": "display_data",
          "data": {
            "text/plain": [
              "  0%|          | 0/393 [00:00<?, ?it/s]"
            ],
            "application/vnd.jupyter.widget-view+json": {
              "version_major": 2,
              "version_minor": 0,
              "model_id": "f7ba70409f0d4669a22e4779041229d5"
            }
          },
          "metadata": {}
        }
      ],
      "source": [
        "from tqdm.auto import tqdm\n",
        "\n",
        "test_path = \"3rd_year_experiment/emotions/data/test\"\n",
        "label_path = \"3rd_year_experiment/emotions/Labels\"\n",
        "image_path = '3rd_year_experiment/emotions/datasets'\n",
        "\n",
        "test_label_path = os.path.join(label_path, \"ground_truth_test.csv\")\n",
        "\n",
        "test_df = pd.read_csv(test_label_path)\n",
        "iterow = list(test_df.iterrows())\n",
        "\n",
        "for idx, row in tqdm(iterow):\n",
        "        test_image_path = os.path.join(image_path, row[\"image\"])\n",
        "\n",
        "        pred = prediction(finetune_model, test_image_path)\n",
        "\n",
        "        test_df.loc[test_df[\"image\"]==row[\"image\"], \"label\"] = pred\n",
        "\n",
        "test_df = test_df.astype({'label': 'int32'})\n",
        "\n",
        "test_df.to_csv(\"sample_submission.csv\", index=False)"
      ]
    }
  ],
  "metadata": {
    "accelerator": "GPU",
    "colab": {
      "provenance": []
    },
    "gpuClass": "standard",
    "kernelspec": {
      "display_name": "Python 3",
      "language": "python",
      "name": "python3"
    },
    "language_info": {
      "name": "python",
      "version": "3.8.9 (default, Apr 13 2022, 08:48:06) \n[Clang 13.1.6 (clang-1316.0.21.2.5)]"
    },
    "vscode": {
      "interpreter": {
        "hash": "31f2aee4e71d21fbe5cf8b01ff0e069b9275f58929596ceb00d14d90e3e16cd6"
      }
    },
    "widgets": {
      "application/vnd.jupyter.widget-state+json": {
        "32a967cff6564045847a24553a46b32d": {
          "model_module": "@jupyter-widgets/controls",
          "model_name": "HBoxModel",
          "model_module_version": "1.5.0",
          "state": {
            "_dom_classes": [],
            "_model_module": "@jupyter-widgets/controls",
            "_model_module_version": "1.5.0",
            "_model_name": "HBoxModel",
            "_view_count": null,
            "_view_module": "@jupyter-widgets/controls",
            "_view_module_version": "1.5.0",
            "_view_name": "HBoxView",
            "box_style": "",
            "children": [
              "IPY_MODEL_f6adc334fa784316928a5967e34e62f4",
              "IPY_MODEL_78fe9b1a1f6e48418bb62f8d43bc97c2",
              "IPY_MODEL_ff322d0ac1774be08381b0a86ca4e98c"
            ],
            "layout": "IPY_MODEL_6dff466ea691446e8914df550ce53398"
          }
        },
        "f6adc334fa784316928a5967e34e62f4": {
          "model_module": "@jupyter-widgets/controls",
          "model_name": "HTMLModel",
          "model_module_version": "1.5.0",
          "state": {
            "_dom_classes": [],
            "_model_module": "@jupyter-widgets/controls",
            "_model_module_version": "1.5.0",
            "_model_name": "HTMLModel",
            "_view_count": null,
            "_view_module": "@jupyter-widgets/controls",
            "_view_module_version": "1.5.0",
            "_view_name": "HTMLView",
            "description": "",
            "description_tooltip": null,
            "layout": "IPY_MODEL_aae09b5bb3bd496aa3733ecbdbbfb4b2",
            "placeholder": "​",
            "style": "IPY_MODEL_35e41e2195e5440abe7ad094cf1acda5",
            "value": "100%"
          }
        },
        "78fe9b1a1f6e48418bb62f8d43bc97c2": {
          "model_module": "@jupyter-widgets/controls",
          "model_name": "FloatProgressModel",
          "model_module_version": "1.5.0",
          "state": {
            "_dom_classes": [],
            "_model_module": "@jupyter-widgets/controls",
            "_model_module_version": "1.5.0",
            "_model_name": "FloatProgressModel",
            "_view_count": null,
            "_view_module": "@jupyter-widgets/controls",
            "_view_module_version": "1.5.0",
            "_view_name": "ProgressView",
            "bar_style": "success",
            "description": "",
            "description_tooltip": null,
            "layout": "IPY_MODEL_89314edf5430403f9c59a35d7369d01a",
            "max": 102530333,
            "min": 0,
            "orientation": "horizontal",
            "style": "IPY_MODEL_6c6dd82a1eda47d19a6b6fb49c5aa5f7",
            "value": 102530333
          }
        },
        "ff322d0ac1774be08381b0a86ca4e98c": {
          "model_module": "@jupyter-widgets/controls",
          "model_name": "HTMLModel",
          "model_module_version": "1.5.0",
          "state": {
            "_dom_classes": [],
            "_model_module": "@jupyter-widgets/controls",
            "_model_module_version": "1.5.0",
            "_model_name": "HTMLModel",
            "_view_count": null,
            "_view_module": "@jupyter-widgets/controls",
            "_view_module_version": "1.5.0",
            "_view_name": "HTMLView",
            "description": "",
            "description_tooltip": null,
            "layout": "IPY_MODEL_3b509d6c6cfb441191ebeb1c1e885539",
            "placeholder": "​",
            "style": "IPY_MODEL_4762fe24eb644621b6da75bf1f5b819e",
            "value": " 97.8M/97.8M [00:00&lt;00:00, 146MB/s]"
          }
        },
        "6dff466ea691446e8914df550ce53398": {
          "model_module": "@jupyter-widgets/base",
          "model_name": "LayoutModel",
          "model_module_version": "1.2.0",
          "state": {
            "_model_module": "@jupyter-widgets/base",
            "_model_module_version": "1.2.0",
            "_model_name": "LayoutModel",
            "_view_count": null,
            "_view_module": "@jupyter-widgets/base",
            "_view_module_version": "1.2.0",
            "_view_name": "LayoutView",
            "align_content": null,
            "align_items": null,
            "align_self": null,
            "border": null,
            "bottom": null,
            "display": null,
            "flex": null,
            "flex_flow": null,
            "grid_area": null,
            "grid_auto_columns": null,
            "grid_auto_flow": null,
            "grid_auto_rows": null,
            "grid_column": null,
            "grid_gap": null,
            "grid_row": null,
            "grid_template_areas": null,
            "grid_template_columns": null,
            "grid_template_rows": null,
            "height": null,
            "justify_content": null,
            "justify_items": null,
            "left": null,
            "margin": null,
            "max_height": null,
            "max_width": null,
            "min_height": null,
            "min_width": null,
            "object_fit": null,
            "object_position": null,
            "order": null,
            "overflow": null,
            "overflow_x": null,
            "overflow_y": null,
            "padding": null,
            "right": null,
            "top": null,
            "visibility": null,
            "width": null
          }
        },
        "aae09b5bb3bd496aa3733ecbdbbfb4b2": {
          "model_module": "@jupyter-widgets/base",
          "model_name": "LayoutModel",
          "model_module_version": "1.2.0",
          "state": {
            "_model_module": "@jupyter-widgets/base",
            "_model_module_version": "1.2.0",
            "_model_name": "LayoutModel",
            "_view_count": null,
            "_view_module": "@jupyter-widgets/base",
            "_view_module_version": "1.2.0",
            "_view_name": "LayoutView",
            "align_content": null,
            "align_items": null,
            "align_self": null,
            "border": null,
            "bottom": null,
            "display": null,
            "flex": null,
            "flex_flow": null,
            "grid_area": null,
            "grid_auto_columns": null,
            "grid_auto_flow": null,
            "grid_auto_rows": null,
            "grid_column": null,
            "grid_gap": null,
            "grid_row": null,
            "grid_template_areas": null,
            "grid_template_columns": null,
            "grid_template_rows": null,
            "height": null,
            "justify_content": null,
            "justify_items": null,
            "left": null,
            "margin": null,
            "max_height": null,
            "max_width": null,
            "min_height": null,
            "min_width": null,
            "object_fit": null,
            "object_position": null,
            "order": null,
            "overflow": null,
            "overflow_x": null,
            "overflow_y": null,
            "padding": null,
            "right": null,
            "top": null,
            "visibility": null,
            "width": null
          }
        },
        "35e41e2195e5440abe7ad094cf1acda5": {
          "model_module": "@jupyter-widgets/controls",
          "model_name": "DescriptionStyleModel",
          "model_module_version": "1.5.0",
          "state": {
            "_model_module": "@jupyter-widgets/controls",
            "_model_module_version": "1.5.0",
            "_model_name": "DescriptionStyleModel",
            "_view_count": null,
            "_view_module": "@jupyter-widgets/base",
            "_view_module_version": "1.2.0",
            "_view_name": "StyleView",
            "description_width": ""
          }
        },
        "89314edf5430403f9c59a35d7369d01a": {
          "model_module": "@jupyter-widgets/base",
          "model_name": "LayoutModel",
          "model_module_version": "1.2.0",
          "state": {
            "_model_module": "@jupyter-widgets/base",
            "_model_module_version": "1.2.0",
            "_model_name": "LayoutModel",
            "_view_count": null,
            "_view_module": "@jupyter-widgets/base",
            "_view_module_version": "1.2.0",
            "_view_name": "LayoutView",
            "align_content": null,
            "align_items": null,
            "align_self": null,
            "border": null,
            "bottom": null,
            "display": null,
            "flex": null,
            "flex_flow": null,
            "grid_area": null,
            "grid_auto_columns": null,
            "grid_auto_flow": null,
            "grid_auto_rows": null,
            "grid_column": null,
            "grid_gap": null,
            "grid_row": null,
            "grid_template_areas": null,
            "grid_template_columns": null,
            "grid_template_rows": null,
            "height": null,
            "justify_content": null,
            "justify_items": null,
            "left": null,
            "margin": null,
            "max_height": null,
            "max_width": null,
            "min_height": null,
            "min_width": null,
            "object_fit": null,
            "object_position": null,
            "order": null,
            "overflow": null,
            "overflow_x": null,
            "overflow_y": null,
            "padding": null,
            "right": null,
            "top": null,
            "visibility": null,
            "width": null
          }
        },
        "6c6dd82a1eda47d19a6b6fb49c5aa5f7": {
          "model_module": "@jupyter-widgets/controls",
          "model_name": "ProgressStyleModel",
          "model_module_version": "1.5.0",
          "state": {
            "_model_module": "@jupyter-widgets/controls",
            "_model_module_version": "1.5.0",
            "_model_name": "ProgressStyleModel",
            "_view_count": null,
            "_view_module": "@jupyter-widgets/base",
            "_view_module_version": "1.2.0",
            "_view_name": "StyleView",
            "bar_color": null,
            "description_width": ""
          }
        },
        "3b509d6c6cfb441191ebeb1c1e885539": {
          "model_module": "@jupyter-widgets/base",
          "model_name": "LayoutModel",
          "model_module_version": "1.2.0",
          "state": {
            "_model_module": "@jupyter-widgets/base",
            "_model_module_version": "1.2.0",
            "_model_name": "LayoutModel",
            "_view_count": null,
            "_view_module": "@jupyter-widgets/base",
            "_view_module_version": "1.2.0",
            "_view_name": "LayoutView",
            "align_content": null,
            "align_items": null,
            "align_self": null,
            "border": null,
            "bottom": null,
            "display": null,
            "flex": null,
            "flex_flow": null,
            "grid_area": null,
            "grid_auto_columns": null,
            "grid_auto_flow": null,
            "grid_auto_rows": null,
            "grid_column": null,
            "grid_gap": null,
            "grid_row": null,
            "grid_template_areas": null,
            "grid_template_columns": null,
            "grid_template_rows": null,
            "height": null,
            "justify_content": null,
            "justify_items": null,
            "left": null,
            "margin": null,
            "max_height": null,
            "max_width": null,
            "min_height": null,
            "min_width": null,
            "object_fit": null,
            "object_position": null,
            "order": null,
            "overflow": null,
            "overflow_x": null,
            "overflow_y": null,
            "padding": null,
            "right": null,
            "top": null,
            "visibility": null,
            "width": null
          }
        },
        "4762fe24eb644621b6da75bf1f5b819e": {
          "model_module": "@jupyter-widgets/controls",
          "model_name": "DescriptionStyleModel",
          "model_module_version": "1.5.0",
          "state": {
            "_model_module": "@jupyter-widgets/controls",
            "_model_module_version": "1.5.0",
            "_model_name": "DescriptionStyleModel",
            "_view_count": null,
            "_view_module": "@jupyter-widgets/base",
            "_view_module_version": "1.2.0",
            "_view_name": "StyleView",
            "description_width": ""
          }
        },
        "f7ba70409f0d4669a22e4779041229d5": {
          "model_module": "@jupyter-widgets/controls",
          "model_name": "HBoxModel",
          "model_module_version": "1.5.0",
          "state": {
            "_dom_classes": [],
            "_model_module": "@jupyter-widgets/controls",
            "_model_module_version": "1.5.0",
            "_model_name": "HBoxModel",
            "_view_count": null,
            "_view_module": "@jupyter-widgets/controls",
            "_view_module_version": "1.5.0",
            "_view_name": "HBoxView",
            "box_style": "",
            "children": [
              "IPY_MODEL_acfe30109d814366add278d9f6db8301",
              "IPY_MODEL_1f954b1f57604316981a5108f51139b4",
              "IPY_MODEL_5dd23bb5d24a4531afcb89fb347b0305"
            ],
            "layout": "IPY_MODEL_db4be81d350c475a94577f7e49480a84"
          }
        },
        "acfe30109d814366add278d9f6db8301": {
          "model_module": "@jupyter-widgets/controls",
          "model_name": "HTMLModel",
          "model_module_version": "1.5.0",
          "state": {
            "_dom_classes": [],
            "_model_module": "@jupyter-widgets/controls",
            "_model_module_version": "1.5.0",
            "_model_name": "HTMLModel",
            "_view_count": null,
            "_view_module": "@jupyter-widgets/controls",
            "_view_module_version": "1.5.0",
            "_view_name": "HTMLView",
            "description": "",
            "description_tooltip": null,
            "layout": "IPY_MODEL_3737ebc6db714cb4a4848b3d7329d859",
            "placeholder": "​",
            "style": "IPY_MODEL_66a4d0463b6b4c22bce0a583d0e1390a",
            "value": "100%"
          }
        },
        "1f954b1f57604316981a5108f51139b4": {
          "model_module": "@jupyter-widgets/controls",
          "model_name": "FloatProgressModel",
          "model_module_version": "1.5.0",
          "state": {
            "_dom_classes": [],
            "_model_module": "@jupyter-widgets/controls",
            "_model_module_version": "1.5.0",
            "_model_name": "FloatProgressModel",
            "_view_count": null,
            "_view_module": "@jupyter-widgets/controls",
            "_view_module_version": "1.5.0",
            "_view_name": "ProgressView",
            "bar_style": "success",
            "description": "",
            "description_tooltip": null,
            "layout": "IPY_MODEL_59ad90bfee864c07b15d0ec5ec07d302",
            "max": 393,
            "min": 0,
            "orientation": "horizontal",
            "style": "IPY_MODEL_f8dc57a7d5f344c1acbf96cca621cc6b",
            "value": 393
          }
        },
        "5dd23bb5d24a4531afcb89fb347b0305": {
          "model_module": "@jupyter-widgets/controls",
          "model_name": "HTMLModel",
          "model_module_version": "1.5.0",
          "state": {
            "_dom_classes": [],
            "_model_module": "@jupyter-widgets/controls",
            "_model_module_version": "1.5.0",
            "_model_name": "HTMLModel",
            "_view_count": null,
            "_view_module": "@jupyter-widgets/controls",
            "_view_module_version": "1.5.0",
            "_view_name": "HTMLView",
            "description": "",
            "description_tooltip": null,
            "layout": "IPY_MODEL_e179e2e5e7b3441db6b0f892db36adce",
            "placeholder": "​",
            "style": "IPY_MODEL_9d0c360cd8554f1683434a2a83a9913e",
            "value": " 393/393 [00:12&lt;00:00, 33.75it/s]"
          }
        },
        "db4be81d350c475a94577f7e49480a84": {
          "model_module": "@jupyter-widgets/base",
          "model_name": "LayoutModel",
          "model_module_version": "1.2.0",
          "state": {
            "_model_module": "@jupyter-widgets/base",
            "_model_module_version": "1.2.0",
            "_model_name": "LayoutModel",
            "_view_count": null,
            "_view_module": "@jupyter-widgets/base",
            "_view_module_version": "1.2.0",
            "_view_name": "LayoutView",
            "align_content": null,
            "align_items": null,
            "align_self": null,
            "border": null,
            "bottom": null,
            "display": null,
            "flex": null,
            "flex_flow": null,
            "grid_area": null,
            "grid_auto_columns": null,
            "grid_auto_flow": null,
            "grid_auto_rows": null,
            "grid_column": null,
            "grid_gap": null,
            "grid_row": null,
            "grid_template_areas": null,
            "grid_template_columns": null,
            "grid_template_rows": null,
            "height": null,
            "justify_content": null,
            "justify_items": null,
            "left": null,
            "margin": null,
            "max_height": null,
            "max_width": null,
            "min_height": null,
            "min_width": null,
            "object_fit": null,
            "object_position": null,
            "order": null,
            "overflow": null,
            "overflow_x": null,
            "overflow_y": null,
            "padding": null,
            "right": null,
            "top": null,
            "visibility": null,
            "width": null
          }
        },
        "3737ebc6db714cb4a4848b3d7329d859": {
          "model_module": "@jupyter-widgets/base",
          "model_name": "LayoutModel",
          "model_module_version": "1.2.0",
          "state": {
            "_model_module": "@jupyter-widgets/base",
            "_model_module_version": "1.2.0",
            "_model_name": "LayoutModel",
            "_view_count": null,
            "_view_module": "@jupyter-widgets/base",
            "_view_module_version": "1.2.0",
            "_view_name": "LayoutView",
            "align_content": null,
            "align_items": null,
            "align_self": null,
            "border": null,
            "bottom": null,
            "display": null,
            "flex": null,
            "flex_flow": null,
            "grid_area": null,
            "grid_auto_columns": null,
            "grid_auto_flow": null,
            "grid_auto_rows": null,
            "grid_column": null,
            "grid_gap": null,
            "grid_row": null,
            "grid_template_areas": null,
            "grid_template_columns": null,
            "grid_template_rows": null,
            "height": null,
            "justify_content": null,
            "justify_items": null,
            "left": null,
            "margin": null,
            "max_height": null,
            "max_width": null,
            "min_height": null,
            "min_width": null,
            "object_fit": null,
            "object_position": null,
            "order": null,
            "overflow": null,
            "overflow_x": null,
            "overflow_y": null,
            "padding": null,
            "right": null,
            "top": null,
            "visibility": null,
            "width": null
          }
        },
        "66a4d0463b6b4c22bce0a583d0e1390a": {
          "model_module": "@jupyter-widgets/controls",
          "model_name": "DescriptionStyleModel",
          "model_module_version": "1.5.0",
          "state": {
            "_model_module": "@jupyter-widgets/controls",
            "_model_module_version": "1.5.0",
            "_model_name": "DescriptionStyleModel",
            "_view_count": null,
            "_view_module": "@jupyter-widgets/base",
            "_view_module_version": "1.2.0",
            "_view_name": "StyleView",
            "description_width": ""
          }
        },
        "59ad90bfee864c07b15d0ec5ec07d302": {
          "model_module": "@jupyter-widgets/base",
          "model_name": "LayoutModel",
          "model_module_version": "1.2.0",
          "state": {
            "_model_module": "@jupyter-widgets/base",
            "_model_module_version": "1.2.0",
            "_model_name": "LayoutModel",
            "_view_count": null,
            "_view_module": "@jupyter-widgets/base",
            "_view_module_version": "1.2.0",
            "_view_name": "LayoutView",
            "align_content": null,
            "align_items": null,
            "align_self": null,
            "border": null,
            "bottom": null,
            "display": null,
            "flex": null,
            "flex_flow": null,
            "grid_area": null,
            "grid_auto_columns": null,
            "grid_auto_flow": null,
            "grid_auto_rows": null,
            "grid_column": null,
            "grid_gap": null,
            "grid_row": null,
            "grid_template_areas": null,
            "grid_template_columns": null,
            "grid_template_rows": null,
            "height": null,
            "justify_content": null,
            "justify_items": null,
            "left": null,
            "margin": null,
            "max_height": null,
            "max_width": null,
            "min_height": null,
            "min_width": null,
            "object_fit": null,
            "object_position": null,
            "order": null,
            "overflow": null,
            "overflow_x": null,
            "overflow_y": null,
            "padding": null,
            "right": null,
            "top": null,
            "visibility": null,
            "width": null
          }
        },
        "f8dc57a7d5f344c1acbf96cca621cc6b": {
          "model_module": "@jupyter-widgets/controls",
          "model_name": "ProgressStyleModel",
          "model_module_version": "1.5.0",
          "state": {
            "_model_module": "@jupyter-widgets/controls",
            "_model_module_version": "1.5.0",
            "_model_name": "ProgressStyleModel",
            "_view_count": null,
            "_view_module": "@jupyter-widgets/base",
            "_view_module_version": "1.2.0",
            "_view_name": "StyleView",
            "bar_color": null,
            "description_width": ""
          }
        },
        "e179e2e5e7b3441db6b0f892db36adce": {
          "model_module": "@jupyter-widgets/base",
          "model_name": "LayoutModel",
          "model_module_version": "1.2.0",
          "state": {
            "_model_module": "@jupyter-widgets/base",
            "_model_module_version": "1.2.0",
            "_model_name": "LayoutModel",
            "_view_count": null,
            "_view_module": "@jupyter-widgets/base",
            "_view_module_version": "1.2.0",
            "_view_name": "LayoutView",
            "align_content": null,
            "align_items": null,
            "align_self": null,
            "border": null,
            "bottom": null,
            "display": null,
            "flex": null,
            "flex_flow": null,
            "grid_area": null,
            "grid_auto_columns": null,
            "grid_auto_flow": null,
            "grid_auto_rows": null,
            "grid_column": null,
            "grid_gap": null,
            "grid_row": null,
            "grid_template_areas": null,
            "grid_template_columns": null,
            "grid_template_rows": null,
            "height": null,
            "justify_content": null,
            "justify_items": null,
            "left": null,
            "margin": null,
            "max_height": null,
            "max_width": null,
            "min_height": null,
            "min_width": null,
            "object_fit": null,
            "object_position": null,
            "order": null,
            "overflow": null,
            "overflow_x": null,
            "overflow_y": null,
            "padding": null,
            "right": null,
            "top": null,
            "visibility": null,
            "width": null
          }
        },
        "9d0c360cd8554f1683434a2a83a9913e": {
          "model_module": "@jupyter-widgets/controls",
          "model_name": "DescriptionStyleModel",
          "model_module_version": "1.5.0",
          "state": {
            "_model_module": "@jupyter-widgets/controls",
            "_model_module_version": "1.5.0",
            "_model_name": "DescriptionStyleModel",
            "_view_count": null,
            "_view_module": "@jupyter-widgets/base",
            "_view_module_version": "1.2.0",
            "_view_name": "StyleView",
            "description_width": ""
          }
        }
      }
    }
  },
  "nbformat": 4,
  "nbformat_minor": 0
}