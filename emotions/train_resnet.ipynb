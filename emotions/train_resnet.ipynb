{
  "cells": [
    {
      "cell_type": "code",
      "execution_count": 1,
      "metadata": {
        "colab": {
          "base_uri": "https://localhost:8080/"
        },
        "id": "NcxZWueJl27W",
        "outputId": "ead66203-23f5-4876-ef2b-dddb47342d00"
      },
      "outputs": [
        {
          "name": "stdout",
          "output_type": "stream",
          "text": [
            "Cloning into '3rd_year_experiment'...\n",
            "remote: Enumerating objects: 37004, done.\u001b[K\n",
            "remote: Counting objects: 100% (2108/2108), done.\u001b[K\n",
            "remote: Compressing objects: 100% (2074/2074), done.\u001b[K\n",
            "remote: Total 37004 (delta 31), reused 2108 (delta 31), pack-reused 34896\u001b[K\n",
            "Receiving objects: 100% (37004/37004), 913.37 MiB | 17.22 MiB/s, done.\n",
            "Resolving deltas: 100% (14075/14075), done.\n",
            "Checking out files: 100% (38754/38754), done.\n"
          ]
        }
      ],
      "source": [
        "! git clone https://github.com/Duckkyy/3rd_year_experiment.git"
      ]
    },
    {
      "cell_type": "code",
      "execution_count": 2,
      "metadata": {
        "colab": {
          "base_uri": "https://localhost:8080/"
        },
        "id": "cDSZIQJAGEO6",
        "outputId": "3bf1d34e-bc39-4d31-b85c-f866841c98a3"
      },
      "outputs": [
        {
          "name": "stdout",
          "output_type": "stream",
          "text": [
            "python3: can't open file '/content/drive/My Drive/app/mnist_cnn.py': [Errno 2] No such file or directory\n"
          ]
        }
      ],
      "source": [
        "!python3 \"/content/drive/My Drive/app/mnist_cnn.py\"\n"
      ]
    },
    {
      "cell_type": "code",
      "execution_count": 3,
      "metadata": {
        "colab": {
          "base_uri": "https://localhost:8080/",
          "height": 37
        },
        "id": "esqPN_ThGKdE",
        "outputId": "79a71287-b14a-46b1-8f2d-bd625e58f984"
      },
      "outputs": [
        {
          "data": {
            "application/vnd.google.colaboratory.intrinsic+json": {
              "type": "string"
            },
            "text/plain": [
              "'/device:GPU:0'"
            ]
          },
          "execution_count": 3,
          "metadata": {},
          "output_type": "execute_result"
        }
      ],
      "source": [
        "import tensorflow as tf\n",
        "tf.test.gpu_device_name()"
      ]
    },
    {
      "cell_type": "code",
      "execution_count": 4,
      "metadata": {
        "id": "HVOrYO_aaUvL"
      },
      "outputs": [],
      "source": [
        "import os\n",
        "os.environ['CUDA_LAUNCH_BLOCKING'] = \"1\""
      ]
    },
    {
      "cell_type": "code",
      "execution_count": 5,
      "metadata": {
        "id": "t_2DmsOHGboS"
      },
      "outputs": [],
      "source": [
        "from __future__ import print_function, division\n",
        "import torch\n",
        "import torch.nn as nn\n",
        "import torch.optim as optim\n",
        "from torch.optim import lr_scheduler\n",
        "import numpy as np\n",
        "import torchvision\n",
        "from torchvision import datasets, models, transforms\n",
        "import matplotlib.pyplot as plt\n",
        "import time\n",
        "import os\n",
        "import copy\n",
        "plt.ion()\n"
      ]
    },
    {
      "cell_type": "markdown",
      "metadata": {
        "id": "nzgIt2uOl3ze"
      },
      "source": [
        "# New Section"
      ]
    },
    {
      "cell_type": "code",
      "execution_count": 6,
      "metadata": {
        "id": "T-Q9fbdnHETn"
      },
      "outputs": [],
      "source": [
        "# transforming_hymen_data = {\n",
        "#     'train': transforms.Compose([\n",
        "#         transforms.RandomResizedCrop(224),\n",
        "#         transforms.RandomHorizontalFlip(),\n",
        "#         transforms.ToTensor(),\n",
        "#         transforms.Normalize([0.485, 0.456, 0.406], [0.229, 0.224, 0.225])\n",
        "#     ])\n",
        "# }\n",
        "# data_dir = '3rd_year_experiment/emotions/data'\n",
        "# datasets_images = {'train': datasets.ImageFolder(os.path.join(data_dir, 'train'),  transforming_hymen_data['train'])}\n",
        "# loaders_data = {'train': torch.utils.data.DataLoader(datasets_images['train'], batch_size=4,\n",
        "#                                              shuffle=True, num_workers=1)}\n",
        "# sizes_datasets = {'train': len(datasets_images['train'])}\n",
        "\n",
        "transforming_hymen_data = {\n",
        "    'train': transforms.Compose([\n",
        "        transforms.RandomResizedCrop(224),\n",
        "        transforms.RandomHorizontalFlip(),\n",
        "        transforms.ToTensor(),\n",
        "        transforms.Normalize([0.485, 0.456, 0.406], [0.229, 0.224, 0.225])\n",
        "    ]),\n",
        "    'val': transforms.Compose([\n",
        "        transforms.Resize(256),\n",
        "        transforms.CenterCrop(224),\n",
        "        transforms.ToTensor(),\n",
        "        transforms.Normalize([0.485, 0.456, 0.406], [0.229, 0.224, 0.225])\n",
        "    ]),\n",
        "}\n",
        "\n",
        "data_dir = '3rd_year_experiment/emotions/data'\n",
        "datasets_images = {x: datasets.ImageFolder(os.path.join(data_dir, x),\n",
        "                                          transforming_hymen_data[x])\n",
        "                  for x in ['train', 'val']}\n",
        "loaders_data = {x: torch.utils.data.DataLoader(datasets_images[x], batch_size=4,\n",
        "                                             shuffle=True, num_workers=4)\n",
        "              for x in ['train', 'val']}\n",
        "sizes_datasets = {x: len(datasets_images[x]) for x in ['train', 'val']}\n",
        "class_names = datasets_images['train'].classes"
      ]
    },
    {
      "cell_type": "code",
      "execution_count": 7,
      "metadata": {
        "id": "SFxb3RtJRWRW"
      },
      "outputs": [],
      "source": [
        "class_names = datasets_images['train'].classes\n",
        "device = torch.device(\"cuda:0\" if torch.cuda.is_available() else \"cpu\")"
      ]
    },
    {
      "cell_type": "code",
      "execution_count": 8,
      "metadata": {
        "colab": {
          "base_uri": "https://localhost:8080/"
        },
        "id": "TbEgPz0lRdZC",
        "outputId": "22cefc96-3d99-47bd-f313-01a7b995e4f6"
      },
      "outputs": [
        {
          "name": "stdout",
          "output_type": "stream",
          "text": [
            "['1', '2', '3', '4', '5', '6', '7']\n",
            "cuda:0\n"
          ]
        }
      ],
      "source": [
        "print(class_names)\n",
        "print(device)"
      ]
    },
    {
      "cell_type": "code",
      "execution_count": 9,
      "metadata": {
        "colab": {
          "base_uri": "https://localhost:8080/",
          "height": 148
        },
        "id": "qoPjVdOSJGPS",
        "outputId": "d0151f26-b3f4-4230-9656-16fc2124e7ea"
      },
      "outputs": [
        {
          "data": {
            "image/png": "[encoded data removed]",
            "text/plain": [
              "<Figure size 432x288 with 1 Axes>"
            ]
          },
          "metadata": {
            "needs_background": "light"
          },
          "output_type": "display_data"
        }
      ],
      "source": [
        "def visualize_data(input, title=None):\n",
        "    input = input.numpy().transpose((1, 2, 0))\n",
        "    mean = np.array([0.485, 0.456, 0.406])\n",
        "    std = np.array([0.229, 0.224, 0.225])\n",
        "    input = std * input + mean\n",
        "    input = np.clip(input, 0, 1)\n",
        "    plt.imshow(input)\n",
        "    if title is not None:\n",
        "       plt.title(title)\n",
        "    plt.pause(0.001)  ## Here we are pausing a bit so that plots are updated\n",
        "\n",
        "\n",
        "inputs_data, classes = next(iter(loaders_data['train']))\n",
        "## This is the code for getting a batch of training data\n",
        "\n",
        "out = torchvision.utils.make_grid(inputs_data)\n",
        "## Here we are making a grid from batch\n",
        "\n",
        "visualize_data(out, title=[class_names[x] for x in classes])"
      ]
    },
    {
      "cell_type": "code",
      "execution_count": 10,
      "metadata": {
        "id": "u4hF7K-0R9tc"
      },
      "outputs": [],
      "source": [
        "def train(res_model, criterion, optimizer, scheduler, number_epochs=25):\n",
        "\n",
        "    since = time.time()\n",
        "\n",
        "    best_resmodel_wts = copy.deepcopy(res_model.state_dict())\n",
        "    best_accuracy = 0.0\n",
        "\n",
        "    for epochs in range(number_epochs):\n",
        "        print('Epoch {}/{}'.format(epochs, number_epochs - 1))\n",
        "        print('-' * 10)\n",
        "        for phase in ['train', 'val']: ## Here each epoch is having a training and validation phase\n",
        "            res_model.train()\n",
        "            running_loss = 0.0\n",
        "            running_corrects = 0\n",
        "\n",
        "            for inputs, labels in loaders_data[phase]: ## Iterating over data.\n",
        "                inputs = inputs.to(device)\n",
        "                labels = labels.to(device)\n",
        "\n",
        "                optimizer.zero_grad() ## here we are making the gradients to zero\n",
        "\n",
        "                with torch.set_grad_enabled(phase == 'train'): ## forwarding and then tracking the history if only in train\n",
        "                     outputs = res_model(inputs)\n",
        "                     _, preds = torch.max(outputs, 1)\n",
        "                     loss = criterion(outputs, labels)\n",
        "\n",
        "                     if phase == 'train': # backward and then optimizing only if it is in training phase\n",
        "                         loss.backward()\n",
        "                         optimizer.step()\n",
        "\n",
        "                running_loss += loss.item() * inputs.size(0)\n",
        "                running_corrects += torch.sum(preds == labels.data)\n",
        "            if phase == 'train':\n",
        "                scheduler.step()\n",
        "\n",
        "            epoch_loss = running_loss / sizes_datasets[phase]\n",
        "            epoch_acc = running_corrects.double() / sizes_datasets[phase]\n",
        "\n",
        "            print('{} Loss: {:.4f} Acc: {:.4f}'.format(phase, epoch_loss, epoch_acc))\n",
        "\n",
        "    time_elapsed = time.time() - since\n",
        "    print('Training complete in {:.0f}m {:.0f}s'.format(time_elapsed // 60, time_elapsed % 60))\n",
        "    print('Best val Acc: {:4f}'.format(best_accuracy))\n",
        "\n",
        "    # load best model weights\n",
        "    res_model.load_state_dict(best_resmodel_wts)\n",
        "    return res_model\n",
        "\n"
      ]
    },
    {
      "cell_type": "code",
      "execution_count": 11,
      "metadata": {
        "id": "ncuR2bkRTGg2"
      },
      "outputs": [],
      "source": [
        "def model_visualization(res_model, num_images=6):\n",
        "\n",
        "    was_training = res_model.training\n",
        "    res_model.eval()\n",
        "    images_so_far = 0\n",
        "    fig = plt.figure()\n",
        "\n",
        "    with torch.no_grad():\n",
        "        for i, (inputs, labels) in enumerate(loaders_data['val']):\n",
        "            inputs = inputs.to(device)\n",
        "            labels = labels.to(device)\n",
        "            outputs = res_model(inputs)\n",
        "            _, preds = torch.max(outputs, 1)\n",
        "\n",
        "        for j in range(inputs.size()[0]):\n",
        "            images_so_far += 1\n",
        "            ax = plt.subplot(num_images//2, 2, images_so_far)\n",
        "            ax.axis('off')\n",
        "            ax.set_title('predicted: {}'.format(class_names[preds[j]]))\n",
        "            visualize_data(inputs.cpu().data[j])\n",
        "\n",
        "            if images_so_far == num_images:\n",
        "               res_model.train(mode=was_training)\n",
        "               return\n",
        "        res_model.train(mode=was_training)"
      ]
    },
    {
      "cell_type": "code",
      "execution_count": 12,
      "metadata": {
        "colab": {
          "base_uri": "https://localhost:8080/",
          "height": 154,
          "referenced_widgets": [
            "48582f3de9f74887b4dced634ba94785",
            "b03fb2d17f884e1fa02bf2da5b5fbd19",
            "cfd1e1bd992942fdb99b40a1ffb05afe",
            "3b3b46b3149445b2b7fb68a124372640",
            "e9c4bc5a0d1c4909b743eb625a76c686",
            "38879450526e461b8eca701c12720289",
            "7b9386c2f4824fc694cfc93d062e1dff",
            "01622d3120f84b07a279cf6d50bf08ad",
            "60f2a8d8384b406aba1e89fb306177e9",
            "ce04d1ba194c4ff7a6d28c700c751f58",
            "9ce47824218642bd80df1fd8c92fd0c1"
          ]
        },
        "id": "Tj9bc5MCTS6X",
        "outputId": "d531633a-56a9-4d41-aae1-f158507da103"
      },
      "outputs": [
        {
          "name": "stderr",
          "output_type": "stream",
          "text": [
            "/usr/local/lib/python3.8/dist-packages/torchvision/models/_utils.py:208: UserWarning: The parameter 'pretrained' is deprecated since 0.13 and may be removed in the future, please use 'weights' instead.\n",
            "  warnings.warn(\n",
            "/usr/local/lib/python3.8/dist-packages/torchvision/models/_utils.py:223: UserWarning: Arguments other than a weight enum or `None` for 'weights' are deprecated since 0.13 and may be removed in the future. The current behavior is equivalent to passing `weights=ResNet18_Weights.IMAGENET1K_V1`. You can also use `weights=ResNet18_Weights.DEFAULT` to get the most up-to-date weights.\n",
            "  warnings.warn(msg)\n",
            "Downloading: \"https://download.pytorch.org/models/resnet18-f37072fd.pth\" to /root/.cache/torch/hub/checkpoints/resnet18-f37072fd.pth\n"
          ]
        },
        {
          "data": {
            "application/vnd.jupyter.widget-view+json": {
              "model_id": "48582f3de9f74887b4dced634ba94785",
              "version_major": 2,
              "version_minor": 0
            },
            "text/plain": [
              "  0%|          | 0.00/44.7M [00:00<?, ?B/s]"
            ]
          },
          "metadata": {},
          "output_type": "display_data"
        }
      ],
      "source": [
        "finetune_model = models.resnet18(pretrained=True)\n",
        "num_ftrs = finetune_model.fc.in_features\n",
        "\n",
        "finetune_model.fc = nn.Linear(num_ftrs, 7)\n",
        "finetune_model = finetune_model.to(device)\n",
        "\n",
        "criterion = nn.CrossEntropyLoss()\n",
        "finetune_optim = optim.SGD(finetune_model.parameters(), lr=0.001, momentum=0.9)\n",
        "\n",
        "exp_lr_scheduler = lr_scheduler.StepLR(finetune_optim, step_size=7, gamma=0.1)"
      ]
    },
    {
      "cell_type": "code",
      "execution_count": 13,
      "metadata": {
        "colab": {
          "base_uri": "https://localhost:8080/"
        },
        "id": "_dZYhUGsTeT4",
        "outputId": "04f0f921-f33b-41e1-8fa2-14f701c3b62d"
      },
      "outputs": [
        {
          "name": "stdout",
          "output_type": "stream",
          "text": [
            "Epoch 0/24\n",
            "----------\n",
            "train_data Loss: 2.0102 Acc: 0.1456\n",
            "Epoch 1/24\n",
            "----------\n",
            "train_data Loss: 1.9899 Acc: 0.1745\n",
            "Epoch 2/24\n",
            "----------\n",
            "train_data Loss: 2.0038 Acc: 0.1487\n",
            "Epoch 3/24\n",
            "----------\n",
            "train_data Loss: 2.0013 Acc: 0.1506\n",
            "Epoch 4/24\n",
            "----------\n",
            "train_data Loss: 2.0029 Acc: 0.1474\n",
            "Epoch 5/24\n",
            "----------\n",
            "train_data Loss: 1.9905 Acc: 0.1645\n",
            "Epoch 6/24\n",
            "----------\n",
            "train_data Loss: 1.9932 Acc: 0.1619\n",
            "Epoch 7/24\n",
            "----------\n",
            "train_data Loss: 1.9880 Acc: 0.1519\n",
            "Epoch 8/24\n",
            "----------\n",
            "train_data Loss: 1.9984 Acc: 0.1689\n",
            "Epoch 9/24\n",
            "----------\n",
            "train_data Loss: 2.0021 Acc: 0.1651\n",
            "Epoch 10/24\n",
            "----------\n",
            "train_data Loss: 2.0004 Acc: 0.1588\n",
            "Epoch 11/24\n",
            "----------\n",
            "train_data Loss: 1.9932 Acc: 0.1657\n",
            "Epoch 12/24\n",
            "----------\n",
            "train_data Loss: 1.9971 Acc: 0.1645\n",
            "Epoch 13/24\n",
            "----------\n",
            "train_data Loss: 2.0071 Acc: 0.1594\n",
            "Epoch 14/24\n",
            "----------\n",
            "train_data Loss: 1.9928 Acc: 0.1594\n",
            "Epoch 15/24\n",
            "----------\n",
            "train_data Loss: 1.9949 Acc: 0.1601\n",
            "Epoch 16/24\n",
            "----------\n",
            "train_data Loss: 1.9880 Acc: 0.1701\n",
            "Epoch 17/24\n",
            "----------\n",
            "train_data Loss: 1.9920 Acc: 0.1645\n",
            "Epoch 18/24\n",
            "----------\n",
            "train_data Loss: 2.0010 Acc: 0.1676\n",
            "Epoch 19/24\n",
            "----------\n",
            "train_data Loss: 2.0003 Acc: 0.1437\n",
            "Epoch 20/24\n",
            "----------\n",
            "train_data Loss: 1.9877 Acc: 0.1575\n",
            "Epoch 21/24\n",
            "----------\n",
            "train_data Loss: 1.9869 Acc: 0.1569\n",
            "Epoch 22/24\n",
            "----------\n",
            "train_data Loss: 2.0027 Acc: 0.1405\n",
            "Epoch 23/24\n",
            "----------\n",
            "train_data Loss: 1.9969 Acc: 0.1582\n",
            "Epoch 24/24\n",
            "----------\n",
            "train_data Loss: 2.0020 Acc: 0.1588\n",
            "Training complete in 5m 38s\n",
            "Best val Acc: 0.000000\n"
          ]
        }
      ],
      "source": [
        "finetune_model = train(finetune_model, criterion, finetune_optim, exp_lr_scheduler, number_epochs=25)"
      ]
    },
    {
      "cell_type": "code",
      "execution_count": 14,
      "metadata": {
        "colab": {
          "base_uri": "https://localhost:8080/",
          "height": 317
        },
        "id": "7ZjD1TswaM4a",
        "outputId": "10a1d63f-eb64-46a6-989a-dc8f97b1fae9"
      },
      "outputs": [
        {
          "ename": "KeyError",
          "evalue": "ignored",
          "output_type": "error",
          "traceback": [
            "\u001b[0;31m---------------------------------------------------------------------------\u001b[0m",
            "\u001b[0;31mKeyError\u001b[0m                                  Traceback (most recent call last)",
            "\u001b[0;32m<ipython-input-14-cfb9d8fa1c07>\u001b[0m in \u001b[0;36m<module>\u001b[0;34m\u001b[0m\n\u001b[0;32m----> 1\u001b[0;31m \u001b[0mmodel_visualization\u001b[0m\u001b[0;34m(\u001b[0m\u001b[0mfinetune_model\u001b[0m\u001b[0;34m)\u001b[0m\u001b[0;34m\u001b[0m\u001b[0;34m\u001b[0m\u001b[0m\n\u001b[0m",
            "\u001b[0;32m<ipython-input-11-271aec0ede62>\u001b[0m in \u001b[0;36mmodel_visualization\u001b[0;34m(res_model, num_images)\u001b[0m\n\u001b[1;32m      7\u001b[0m \u001b[0;34m\u001b[0m\u001b[0m\n\u001b[1;32m      8\u001b[0m     \u001b[0;32mwith\u001b[0m \u001b[0mtorch\u001b[0m\u001b[0;34m.\u001b[0m\u001b[0mno_grad\u001b[0m\u001b[0;34m(\u001b[0m\u001b[0;34m)\u001b[0m\u001b[0;34m:\u001b[0m\u001b[0;34m\u001b[0m\u001b[0;34m\u001b[0m\u001b[0m\n\u001b[0;32m----> 9\u001b[0;31m         \u001b[0;32mfor\u001b[0m \u001b[0mi\u001b[0m\u001b[0;34m,\u001b[0m \u001b[0;34m(\u001b[0m\u001b[0minputs\u001b[0m\u001b[0;34m,\u001b[0m \u001b[0mlabels\u001b[0m\u001b[0;34m)\u001b[0m \u001b[0;32min\u001b[0m \u001b[0menumerate\u001b[0m\u001b[0;34m(\u001b[0m\u001b[0mloaders_data\u001b[0m\u001b[0;34m[\u001b[0m\u001b[0;34m'validation_data'\u001b[0m\u001b[0;34m]\u001b[0m\u001b[0;34m)\u001b[0m\u001b[0;34m:\u001b[0m\u001b[0;34m\u001b[0m\u001b[0;34m\u001b[0m\u001b[0m\n\u001b[0m\u001b[1;32m     10\u001b[0m             \u001b[0minputs\u001b[0m \u001b[0;34m=\u001b[0m \u001b[0minputs\u001b[0m\u001b[0;34m.\u001b[0m\u001b[0mto\u001b[0m\u001b[0;34m(\u001b[0m\u001b[0mdevice\u001b[0m\u001b[0;34m)\u001b[0m\u001b[0;34m\u001b[0m\u001b[0;34m\u001b[0m\u001b[0m\n\u001b[1;32m     11\u001b[0m             \u001b[0mlabels\u001b[0m \u001b[0;34m=\u001b[0m \u001b[0mlabels\u001b[0m\u001b[0;34m.\u001b[0m\u001b[0mto\u001b[0m\u001b[0;34m(\u001b[0m\u001b[0mdevice\u001b[0m\u001b[0;34m)\u001b[0m\u001b[0;34m\u001b[0m\u001b[0;34m\u001b[0m\u001b[0m\n",
            "\u001b[0;31mKeyError\u001b[0m: 'validation_data'"
          ]
        },
        {
          "data": {
            "text/plain": [
              "<Figure size 432x288 with 0 Axes>"
            ]
          },
          "metadata": {},
          "output_type": "display_data"
        }
      ],
      "source": [
        "model_visualization(finetune_model)"
      ]
    }
  ],
  "metadata": {
    "accelerator": "GPU",
    "colab": {
      "provenance": []
    },
    "gpuClass": "standard",
    "kernelspec": {
      "display_name": "Python 3",
      "language": "python",
      "name": "python3"
    },
    "language_info": {
      "name": "python",
      "version": "3.8.9 (default, Apr 13 2022, 08:48:06) \n[Clang 13.1.6 (clang-1316.0.21.2.5)]"
    },
    "vscode": {
      "interpreter": {
        "hash": "31f2aee4e71d21fbe5cf8b01ff0e069b9275f58929596ceb00d14d90e3e16cd6"
      }
    },
    "widgets": {
      "application/vnd.jupyter.widget-state+json": {
        "01622d3120f84b07a279cf6d50bf08ad": {
          "model_module": "@jupyter-widgets/base",
          "model_module_version": "1.2.0",
          "model_name": "LayoutModel",
          "state": {
            "_model_module": "@jupyter-widgets/base",
            "_model_module_version": "1.2.0",
            "_model_name": "LayoutModel",
            "_view_count": null,
            "_view_module": "@jupyter-widgets/base",
            "_view_module_version": "1.2.0",
            "_view_name": "LayoutView",
            "align_content": null,
            "align_items": null,
            "align_self": null,
            "border": null,
            "bottom": null,
            "display": null,
            "flex": null,
            "flex_flow": null,
            "grid_area": null,
            "grid_auto_columns": null,
            "grid_auto_flow": null,
            "grid_auto_rows": null,
            "grid_column": null,
            "grid_gap": null,
            "grid_row": null,
            "grid_template_areas": null,
            "grid_template_columns": null,
            "grid_template_rows": null,
            "height": null,
            "justify_content": null,
            "justify_items": null,
            "left": null,
            "margin": null,
            "max_height": null,
            "max_width": null,
            "min_height": null,
            "min_width": null,
            "object_fit": null,
            "object_position": null,
            "order": null,
            "overflow": null,
            "overflow_x": null,
            "overflow_y": null,
            "padding": null,
            "right": null,
            "top": null,
            "visibility": null,
            "width": null
          }
        },
        "38879450526e461b8eca701c12720289": {
          "model_module": "@jupyter-widgets/base",
          "model_module_version": "1.2.0",
          "model_name": "LayoutModel",
          "state": {
            "_model_module": "@jupyter-widgets/base",
            "_model_module_version": "1.2.0",
            "_model_name": "LayoutModel",
            "_view_count": null,
            "_view_module": "@jupyter-widgets/base",
            "_view_module_version": "1.2.0",
            "_view_name": "LayoutView",
            "align_content": null,
            "align_items": null,
            "align_self": null,
            "border": null,
            "bottom": null,
            "display": null,
            "flex": null,
            "flex_flow": null,
            "grid_area": null,
            "grid_auto_columns": null,
            "grid_auto_flow": null,
            "grid_auto_rows": null,
            "grid_column": null,
            "grid_gap": null,
            "grid_row": null,
            "grid_template_areas": null,
            "grid_template_columns": null,
            "grid_template_rows": null,
            "height": null,
            "justify_content": null,
            "justify_items": null,
            "left": null,
            "margin": null,
            "max_height": null,
            "max_width": null,
            "min_height": null,
            "min_width": null,
            "object_fit": null,
            "object_position": null,
            "order": null,
            "overflow": null,
            "overflow_x": null,
            "overflow_y": null,
            "padding": null,
            "right": null,
            "top": null,
            "visibility": null,
            "width": null
          }
        },
        "3b3b46b3149445b2b7fb68a124372640": {
          "model_module": "@jupyter-widgets/controls",
          "model_module_version": "1.5.0",
          "model_name": "HTMLModel",
          "state": {
            "_dom_classes": [],
            "_model_module": "@jupyter-widgets/controls",
            "_model_module_version": "1.5.0",
            "_model_name": "HTMLModel",
            "_view_count": null,
            "_view_module": "@jupyter-widgets/controls",
            "_view_module_version": "1.5.0",
            "_view_name": "HTMLView",
            "description": "",
            "description_tooltip": null,
            "layout": "IPY_MODEL_ce04d1ba194c4ff7a6d28c700c751f58",
            "placeholder": "​",
            "style": "IPY_MODEL_9ce47824218642bd80df1fd8c92fd0c1",
            "value": " 44.7M/44.7M [00:00&lt;00:00, 212MB/s]"
          }
        },
        "48582f3de9f74887b4dced634ba94785": {
          "model_module": "@jupyter-widgets/controls",
          "model_module_version": "1.5.0",
          "model_name": "HBoxModel",
          "state": {
            "_dom_classes": [],
            "_model_module": "@jupyter-widgets/controls",
            "_model_module_version": "1.5.0",
            "_model_name": "HBoxModel",
            "_view_count": null,
            "_view_module": "@jupyter-widgets/controls",
            "_view_module_version": "1.5.0",
            "_view_name": "HBoxView",
            "box_style": "",
            "children": [
              "IPY_MODEL_b03fb2d17f884e1fa02bf2da5b5fbd19",
              "IPY_MODEL_cfd1e1bd992942fdb99b40a1ffb05afe",
              "IPY_MODEL_3b3b46b3149445b2b7fb68a124372640"
            ],
            "layout": "IPY_MODEL_e9c4bc5a0d1c4909b743eb625a76c686"
          }
        },
        "60f2a8d8384b406aba1e89fb306177e9": {
          "model_module": "@jupyter-widgets/controls",
          "model_module_version": "1.5.0",
          "model_name": "ProgressStyleModel",
          "state": {
            "_model_module": "@jupyter-widgets/controls",
            "_model_module_version": "1.5.0",
            "_model_name": "ProgressStyleModel",
            "_view_count": null,
            "_view_module": "@jupyter-widgets/base",
            "_view_module_version": "1.2.0",
            "_view_name": "StyleView",
            "bar_color": null,
            "description_width": ""
          }
        },
        "7b9386c2f4824fc694cfc93d062e1dff": {
          "model_module": "@jupyter-widgets/controls",
          "model_module_version": "1.5.0",
          "model_name": "DescriptionStyleModel",
          "state": {
            "_model_module": "@jupyter-widgets/controls",
            "_model_module_version": "1.5.0",
            "_model_name": "DescriptionStyleModel",
            "_view_count": null,
            "_view_module": "@jupyter-widgets/base",
            "_view_module_version": "1.2.0",
            "_view_name": "StyleView",
            "description_width": ""
          }
        },
        "9ce47824218642bd80df1fd8c92fd0c1": {
          "model_module": "@jupyter-widgets/controls",
          "model_module_version": "1.5.0",
          "model_name": "DescriptionStyleModel",
          "state": {
            "_model_module": "@jupyter-widgets/controls",
            "_model_module_version": "1.5.0",
            "_model_name": "DescriptionStyleModel",
            "_view_count": null,
            "_view_module": "@jupyter-widgets/base",
            "_view_module_version": "1.2.0",
            "_view_name": "StyleView",
            "description_width": ""
          }
        },
        "b03fb2d17f884e1fa02bf2da5b5fbd19": {
          "model_module": "@jupyter-widgets/controls",
          "model_module_version": "1.5.0",
          "model_name": "HTMLModel",
          "state": {
            "_dom_classes": [],
            "_model_module": "@jupyter-widgets/controls",
            "_model_module_version": "1.5.0",
            "_model_name": "HTMLModel",
            "_view_count": null,
            "_view_module": "@jupyter-widgets/controls",
            "_view_module_version": "1.5.0",
            "_view_name": "HTMLView",
            "description": "",
            "description_tooltip": null,
            "layout": "IPY_MODEL_38879450526e461b8eca701c12720289",
            "placeholder": "​",
            "style": "IPY_MODEL_7b9386c2f4824fc694cfc93d062e1dff",
            "value": "100%"
          }
        },
        "ce04d1ba194c4ff7a6d28c700c751f58": {
          "model_module": "@jupyter-widgets/base",
          "model_module_version": "1.2.0",
          "model_name": "LayoutModel",
          "state": {
            "_model_module": "@jupyter-widgets/base",
            "_model_module_version": "1.2.0",
            "_model_name": "LayoutModel",
            "_view_count": null,
            "_view_module": "@jupyter-widgets/base",
            "_view_module_version": "1.2.0",
            "_view_name": "LayoutView",
            "align_content": null,
            "align_items": null,
            "align_self": null,
            "border": null,
            "bottom": null,
            "display": null,
            "flex": null,
            "flex_flow": null,
            "grid_area": null,
            "grid_auto_columns": null,
            "grid_auto_flow": null,
            "grid_auto_rows": null,
            "grid_column": null,
            "grid_gap": null,
            "grid_row": null,
            "grid_template_areas": null,
            "grid_template_columns": null,
            "grid_template_rows": null,
            "height": null,
            "justify_content": null,
            "justify_items": null,
            "left": null,
            "margin": null,
            "max_height": null,
            "max_width": null,
            "min_height": null,
            "min_width": null,
            "object_fit": null,
            "object_position": null,
            "order": null,
            "overflow": null,
            "overflow_x": null,
            "overflow_y": null,
            "padding": null,
            "right": null,
            "top": null,
            "visibility": null,
            "width": null
          }
        },
        "cfd1e1bd992942fdb99b40a1ffb05afe": {
          "model_module": "@jupyter-widgets/controls",
          "model_module_version": "1.5.0",
          "model_name": "FloatProgressModel",
          "state": {
            "_dom_classes": [],
            "_model_module": "@jupyter-widgets/controls",
            "_model_module_version": "1.5.0",
            "_model_name": "FloatProgressModel",
            "_view_count": null,
            "_view_module": "@jupyter-widgets/controls",
            "_view_module_version": "1.5.0",
            "_view_name": "ProgressView",
            "bar_style": "success",
            "description": "",
            "description_tooltip": null,
            "layout": "IPY_MODEL_01622d3120f84b07a279cf6d50bf08ad",
            "max": 46830571,
            "min": 0,
            "orientation": "horizontal",
            "style": "IPY_MODEL_60f2a8d8384b406aba1e89fb306177e9",
            "value": 46830571
          }
        },
        "e9c4bc5a0d1c4909b743eb625a76c686": {
          "model_module": "@jupyter-widgets/base",
          "model_module_version": "1.2.0",
          "model_name": "LayoutModel",
          "state": {
            "_model_module": "@jupyter-widgets/base",
            "_model_module_version": "1.2.0",
            "_model_name": "LayoutModel",
            "_view_count": null,
            "_view_module": "@jupyter-widgets/base",
            "_view_module_version": "1.2.0",
            "_view_name": "LayoutView",
            "align_content": null,
            "align_items": null,
            "align_self": null,
            "border": null,
            "bottom": null,
            "display": null,
            "flex": null,
            "flex_flow": null,
            "grid_area": null,
            "grid_auto_columns": null,
            "grid_auto_flow": null,
            "grid_auto_rows": null,
            "grid_column": null,
            "grid_gap": null,
            "grid_row": null,
            "grid_template_areas": null,
            "grid_template_columns": null,
            "grid_template_rows": null,
            "height": null,
            "justify_content": null,
            "justify_items": null,
            "left": null,
            "margin": null,
            "max_height": null,
            "max_width": null,
            "min_height": null,
            "min_width": null,
            "object_fit": null,
            "object_position": null,
            "order": null,
            "overflow": null,
            "overflow_x": null,
            "overflow_y": null,
            "padding": null,
            "right": null,
            "top": null,
            "visibility": null,
            "width": null
          }
        }
      }
    }
  },
  "nbformat": 4,
  "nbformat_minor": 0
}
